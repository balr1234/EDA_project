{
 "cells": [
  {
   "cell_type": "markdown",
   "metadata": {},
   "source": [
    "#  EXPLORATORY DATA ANALYSIS"
   ]
  },
  {
   "cell_type": "markdown",
   "metadata": {},
   "source": [
    "INDRODUCTION\n",
    "\n",
    "\n",
    "  Rapido is a quick, reliable, and affordable ride-hailing service that brings you seamless connectivity at your fingertips. Specializing in bike taxis and auto rides, Rapido allows you to skip traffic jams and reach your destination efficiently, all while keeping your budget in check. With a focus on convenience and user satisfaction, Rapido’s easy-to-use app ensures you can book a ride with just a few taps and track your driver in real time. Perfect for daily commutes or short trips around the city, Rapido makes urban travel simpler, faster, and more accessible for everyone.\n",
    "\n",
    "Project Overview\n",
    " \n",
    "  The main goal of this project is to analyze and derive insights from the Rapido dataset to understand user behavior, trip dynamics, and operational efficiencies. The insights will inform Rapido’s strategy for service improvements, user satisfaction, and operational optimization.\n",
    "\n",
    "Indroduction to Tools\n",
    "\n",
    "  Python:\n",
    "\n",
    "   Python is a powerful, high-level programming language known for its simplicity and versatility. Developed in the late 1980s by Guido van Rossum, Python has become one of the most popular languages for beginners and experts alike, thanks to its readable syntax and extensive library support. It is widely used across various fields, including data science, web development, machine learning, automation, and software development.\n",
    "\n",
    "   Pandas:\n",
    "\n",
    "   Pandas is a powerful and widely used Python library for data manipulation and analysis, particularly popular in data science and analytics. Created by Wes McKinney in 2008, Pandas provides data structures and functions that make it easy to clean, transform, and analyze structured data efficiently. The library’s two primary data structures are the Series, for one-dimensional data, and the DataFrame, for two-dimensional tabular data, similar to a spreadsheet or SQL table.\n",
    "\n",
    "   Matplotlib:\n",
    "\n",
    "   Matplotlib is a popular data visualization library in Python, designed to create static, animated, and interactive plots. Initially developed by John D. Hunter in 2003, it has become one of the go-to tools for visualizing data, particularly in data science, engineering, and scientific research. Matplotlib provides a wide range of plotting capabilities, from simple line and scatter plots to complex multi-panel figures.\n",
    "\n",
    "   Seaborn:\n",
    "\n",
    "   Seaborn is a powerful Python library for statistical data visualization, built on top of Matplotlib. It simplifies the process of creating visually appealing and informative statistical graphics, especially for complex datasets. Developed by Michael Waskom, Seaborn provides an intuitive API that makes it easy to create a wide range of plot types, from simple bar charts and histograms to advanced visualizations like heatmaps, violin plots, and pair plots.\n",
    "\n",
    "   Numpy:\n",
    "\n",
    "   NumPy, short for \"Numerical Python,\" is a foundational Python library for numerical computing, particularly valued for its efficient handling of large multi-dimensional arrays and matrices. Developed in 2006 by Travis Oliphant, NumPy provides essential data structures, such as ndarrays (N-dimensional arrays), that allow for fast and efficient array processing. It also includes a vast array of mathematical functions for performing operations on these arrays, making it a cornerstone for scientific and analytical computing in Python.\n",
    "\n"
   ]
  },
  {
   "cell_type": "markdown",
   "metadata": {},
   "source": [
    "#Importing modules"
   ]
  },
  {
   "cell_type": "code",
   "execution_count": 2,
   "metadata": {},
   "outputs": [],
   "source": [
    "import matplotlib.pyplot as plt\n",
    "import pandas as pd\n",
    "import seaborn as sns\n",
    "import numpy as np"
   ]
  },
  {
   "cell_type": "markdown",
   "metadata": {},
   "source": [
    "#Loading Data"
   ]
  },
  {
   "cell_type": "code",
   "execution_count": 3,
   "metadata": {},
   "outputs": [],
   "source": [
    "df = pd.read_csv('C:\\\\Users\\\\Acer\\\\OneDrive\\\\Desktop\\\\Datascience\\\\Dataset\\\\Rdata.csv')"
   ]
  },
  {
   "cell_type": "markdown",
   "metadata": {},
   "source": [
    "#Basic Operation"
   ]
  },
  {
   "cell_type": "code",
   "execution_count": null,
   "metadata": {},
   "outputs": [],
   "source": [
    "print(df)"
   ]
  },
  {
   "cell_type": "code",
   "execution_count": null,
   "metadata": {},
   "outputs": [],
   "source": [
    "print(df.head(7))"
   ]
  },
  {
   "cell_type": "code",
   "execution_count": null,
   "metadata": {},
   "outputs": [],
   "source": [
    "print(df.tial(8))"
   ]
  },
  {
   "cell_type": "code",
   "execution_count": null,
   "metadata": {},
   "outputs": [],
   "source": [
    "print(df.describe)"
   ]
  },
  {
   "cell_type": "code",
   "execution_count": null,
   "metadata": {},
   "outputs": [],
   "source": [
    "pd.options.display.max_rows = 10"
   ]
  },
  {
   "cell_type": "markdown",
   "metadata": {},
   "source": [
    "#Data Cleaning"
   ]
  },
  {
   "cell_type": "code",
   "execution_count": null,
   "metadata": {},
   "outputs": [],
   "source": [
    "print(df.isnull())"
   ]
  },
  {
   "cell_type": "code",
   "execution_count": null,
   "metadata": {},
   "outputs": [],
   "source": [
    "print(df.isnull().sum())"
   ]
  },
  {
   "cell_type": "code",
   "execution_count": 8,
   "metadata": {},
   "outputs": [],
   "source": [
    "df['time'] = df.time.apply(lambda x: x.split('.')[0])"
   ]
  },
  {
   "cell_type": "markdown",
   "metadata": {},
   "source": [
    "### DATA VISUALIZATION   "
   ]
  },
  {
   "cell_type": "markdown",
   "metadata": {},
   "source": [
    "#Number of completion and cancellation of ride services?"
   ]
  },
  {
   "cell_type": "code",
   "execution_count": null,
   "metadata": {},
   "outputs": [],
   "source": [
    "a=ride_status_counts = df['ride_status'].value_counts()\n",
    "\n",
    "# Plotting the pie chart for ride status\n",
    "plt.figure(figsize=(6, 6))\n",
    "plt.pie(ride_status_counts, labels=ride_status_counts.index, autopct='%1.1f%%', startangle=90, colors=['green', 'red'])\n",
    "plt.title(' Completed vs. Cancelled Rides')\n",
    "plt.show()\n",
    "print(\"Total counts completion and cancelled:\\n\", a)"
   ]
  },
  {
   "cell_type": "markdown",
   "metadata": {},
   "source": [
    "#Identifying the most used ride services?"
   ]
  },
  {
   "cell_type": "code",
   "execution_count": null,
   "metadata": {},
   "outputs": [],
   "source": [
    "plt.figure(figsize=(7, 5))\n",
    "sns.countplot(data=df, x='services')\n",
    "plt.title('Distribution of Ride Services')\n",
    "plt.show()\n",
    "print(\"Most used services:\\n\",df['services'].value_counts())\n",
    "print(\"HERE THE MOST USED SERVICES ARE BIKE\")\n",
    "\n"
   ]
  },
  {
   "cell_type": "markdown",
   "metadata": {},
   "source": [
    "##Here the most used services are Bike because customers can go easily through trafic and they can take shortcut routes for there destination"
   ]
  },
  {
   "cell_type": "markdown",
   "metadata": {},
   "source": [
    "#Difining most used  payment methods?"
   ]
  },
  {
   "cell_type": "code",
   "execution_count": null,
   "metadata": {},
   "outputs": [],
   "source": [
    "plt.figure(figsize=(7, 5))\n",
    "sns.countplot(data=df, x='payment_method')\n",
    "plt.title('payment_methods')\n",
    "plt.show()\n",
    "df['payment_method'].value_counts()\n"
   ]
  },
  {
   "cell_type": "markdown",
   "metadata": {},
   "source": [
    "#Average Ride Duration for Completed Rides?"
   ]
  },
  {
   "cell_type": "code",
   "execution_count": null,
   "metadata": {},
   "outputs": [],
   "source": [
    "completed_rides = df[df['ride_status'] == 'completed']\n",
    "duration = completed_rides['duration'].mean()\n",
    "print(\"average_duration_for_completed_rides:\",duration,\"KM\")\n",
    "plt.figure(figsize=(6, 4))\n",
    "plt.bar(['Completed Rides'], [duration], color='green')\n",
    "plt.xlabel('Ride Status')\n",
    "plt.ylabel('Average Duration (minutes)')\n",
    "plt.title('Average Ride Duration for Completed Rides')\n",
    "plt.ylim(0, max(duration + 10, 80))  # Setting a reasonable y-limit\n",
    "\n",
    "\n",
    "\n"
   ]
  },
  {
   "cell_type": "markdown",
   "metadata": {},
   "source": [
    "#To understand if cancellations are more common in specific areas, count cancellations by source and destination?"
   ]
  },
  {
   "cell_type": "code",
   "execution_count": null,
   "metadata": {},
   "outputs": [],
   "source": [
    "canceled_rides = df[df['ride_status'] == 'cancelled']\n",
    "# Count cancellations by source and destination\n",
    "source_cancellations = canceled_rides['source'].value_counts().head(10)  # Top 10 sources\n",
    "destination_cancellations = canceled_rides['destination'].value_counts().head(10)  # Top 10 destinations\n",
    "\n",
    "# Plot cancellations by top sources\n",
    "plt.figure(figsize=(10, 6))\n",
    "source_cancellations.plot(kind='bar', color='purple')\n",
    "plt.title('Top 10 Locations for Ride Cancellations - Source')\n",
    "plt.xlabel('Source Location')\n",
    "plt.ylabel('Number of Cancellations')\n",
    "plt.show()\n",
    "a=source_cancellations = canceled_rides['source'].value_counts()\n",
    "print(a)\n",
    "# Plot cancellations by top destinations\n",
    "plt.figure(figsize=(10, 6))\n",
    "destination_cancellations.plot(kind='bar', color='teal')\n",
    "plt.title('Top 10 Locations for Ride Cancellations - Destination')\n",
    "plt.xlabel('Destination Location')\n",
    "plt.ylabel('Number of Cancellations')\n",
    "plt.show()\n",
    "b=destination_cancellations = canceled_rides['destination'].value_counts()\n",
    "print(b)\n"
   ]
  },
  {
   "cell_type": "markdown",
   "metadata": {},
   "source": [
    "#The average cost per kilometer and average cost per minute?"
   ]
  },
  {
   "cell_type": "code",
   "execution_count": null,
   "metadata": {},
   "outputs": [],
   "source": [
    "pd.options.mode.chained_assignment = None\n",
    "# Filter only completed rides with non-null total fare values\n",
    "completed_rides = df[(df['ride_status'] == 'completed') & (df['total_fare'].notna())]\n",
    "\n",
    "# Calculate cost per kilometer and cost per minute\n",
    "completed_rides['cost_per_km'] = completed_rides['total_fare'] / completed_rides['distance']\n",
    "completed_rides['cost_per_min'] = completed_rides['total_fare'] / completed_rides['duration']\n",
    "\n",
    "# Calculate the average cost per kilometer and per minute\n",
    "a=average_cost_per_km = completed_rides['cost_per_km'].mean()\n",
    "b=average_cost_per_min = completed_rides['cost_per_min'].mean()\n",
    "print('Average Cost per KM:',a)\n",
    "print('Average Cost per Minute:',b)\n",
    "\n",
    "# Plotting the average cost per kilometer and per minute in a bar plot\n",
    "plt.figure(figsize=(8, 6))\n",
    "plt.bar(['Average Cost per KM', 'Average Cost per Minute'], \n",
    "        [average_cost_per_km, average_cost_per_min], \n",
    "        color=['green', 'blue'])\n",
    "plt.title('Average Ride Cost per Kilometer and per Minute')\n",
    "plt.ylabel('Average Cost ($)')\n",
    "plt.show()\n"
   ]
  },
  {
   "cell_type": "markdown",
   "metadata": {},
   "source": [
    "#Calculate the average ride_charge and misc_charge for each ride service type?"
   ]
  },
  {
   "cell_type": "code",
   "execution_count": null,
   "metadata": {},
   "outputs": [],
   "source": [
    "g=charge_by_service = df.groupby('services')[['ride_charge', 'misc_charge']].mean()\n",
    "print(g)\n",
    "# Plot the variations by ride service type\n",
    "charge_by_service.plot(kind='bar', figsize=(10, 6), color=['skyblue', 'red'])\n",
    "plt.title('Average Ride and Misc Charges by Service Type')\n",
    "plt.xlabel('Ride Service Type')\n",
    "plt.ylabel('Average Charge ($)')\n",
    "plt.show()"
   ]
  },
  {
   "cell_type": "markdown",
   "metadata": {},
   "source": [
    "#Which routes (source to destination) are most frequently traveled?"
   ]
  },
  {
   "cell_type": "code",
   "execution_count": null,
   "metadata": {},
   "outputs": [],
   "source": [
    "# Group by 'source' and 'destination' and count the occurrences of each route\n",
    "v=route_counts = df.groupby(['source', 'destination']).size().reset_index(name='count')\n",
    "# print(v)\n",
    "# Sort the routes by frequency in descending order and select the top 10 most frequent routes\n",
    "r=top_routes = route_counts.sort_values(by='count', ascending=False).head(10)\n",
    "print('Top 10 Most Frequently Traveled Routes:\\n',r)\n",
    "\n",
    "# Plot the top 10 most frequently traveled routes\n",
    "plt.figure(figsize=(12, 6))\n",
    "plt.barh(top_routes.apply(lambda x: f\"{x['source']} -> {x['destination']}\", axis=1), \n",
    "         top_routes['count'], color='skyblue')\n",
    "plt.xlabel('Number of Rides')\n",
    "plt.ylabel('Route (Source -> Destination)')\n",
    "plt.title('Top 10 Most Frequently Traveled Routes')\n",
    "plt.gca().invert_yaxis()  # Invert y-axis for better readability\n",
    "plt.show()"
   ]
  },
  {
   "cell_type": "markdown",
   "metadata": {},
   "source": [
    "#Is there any correlation between the total fare and the chosen payment method?"
   ]
  },
  {
   "cell_type": "code",
   "execution_count": null,
   "metadata": {},
   "outputs": [],
   "source": [
    "# Calculate the average total fare for each payment method\n",
    "a=average_fare_by_payment = df.groupby('payment_method')['total_fare'].mean().reset_index()\n",
    "print(a)\n",
    "# Plot the average total fare by payment method\n",
    "plt.figure(figsize=(10, 6))\n",
    "plt.bar(average_fare_by_payment['payment_method'], average_fare_by_payment['total_fare'], color='brown')\n",
    "plt.title('Average Total Fare by Payment Method')\n",
    "plt.xlabel('Payment Method')\n",
    "plt.ylabel('Average Total Fare ($)')\n",
    "plt.xticks(rotation=45)  # Rotate labels for readability\n",
    "plt.show()"
   ]
  },
  {
   "cell_type": "markdown",
   "metadata": {},
   "source": [
    "#We can divide the day into intervals (morning, afternoon, evening, night) and see if cancellations are more frequent at certain times?"
   ]
  },
  {
   "cell_type": "code",
   "execution_count": null,
   "metadata": {},
   "outputs": [],
   "source": [
    "pd.options.mode.chained_assignment = None\n",
    "# Filter for canceled rides\n",
    "canceled_rides = df[df['ride_status'] == 'cancelled']\n",
    "\n",
    "# Convert 'time' to datetime and extract hour\n",
    "canceled_rides['hour'] = pd.to_datetime(canceled_rides['time']).dt.hour\n",
    "\n",
    "# Define time intervals\n",
    "time_bins = [0, 6, 12, 18, 24]\n",
    "time_labels = ['Night', 'Morning', 'Afternoon', 'Evening']\n",
    "canceled_rides['time_of_day'] = pd.cut(canceled_rides['hour'], bins=time_bins, labels=time_labels, right=False)\n",
    "\n",
    "# Plot cancellation frequency by time of day\n",
    "rm=time_of_day_counts = canceled_rides['time_of_day'].value_counts().sort_index()\n",
    "print(rm)\n",
    "plt.figure(figsize=(8, 6))\n",
    "time_of_day_counts.plot(kind='bar', color='orange')\n",
    "plt.title('Cancellations by Time of Day')\n",
    "plt.xlabel('Time of Day')\n",
    "plt.ylabel('Number of Cancellations')\n",
    "plt.show()\n",
    "\n"
   ]
  },
  {
   "cell_type": "markdown",
   "metadata": {},
   "source": [
    "## Conclution"
   ]
  },
  {
   "cell_type": "markdown",
   "metadata": {},
   "source": [
    "#Ride Trends: Rides are busiest during specific times, like rush hours, and on certain days, such as weekends or weekdays.\n",
    "\n",
    "Service Usage: Different services have varying levels of popularity and fares, catering to different customer preferences.\n",
    "\n",
    "Cancellations: Cancellations tend to happen more often at certain times or days, which may point to service issues or user needs.\n",
    "\n",
    "Fare Patterns: Fare amounts depend on the ride's distance and duration, with some services having higher costs than others.\n",
    "\n",
    "Improvement Opportunities: These insights can help better manage vehicles, improve services, and increase profits."
   ]
  }
 ],
 "metadata": {
  "kernelspec": {
   "display_name": "base",
   "language": "python",
   "name": "python3"
  },
  "language_info": {
   "codemirror_mode": {
    "name": "ipython",
    "version": 3
   },
   "file_extension": ".py",
   "mimetype": "text/x-python",
   "name": "python",
   "nbconvert_exporter": "python",
   "pygments_lexer": "ipython3",
   "version": "3.10.9"
  }
 },
 "nbformat": 4,
 "nbformat_minor": 2
}
